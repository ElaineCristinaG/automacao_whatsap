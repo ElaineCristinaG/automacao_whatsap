{
 "cells": [
  {
   "cell_type": "code",
   "execution_count": null,
   "metadata": {},
   "outputs": [],
   "source": [
    "%pip install selenium pyperclip webdriver-manager"
   ]
  },
  {
   "cell_type": "code",
   "execution_count": null,
   "metadata": {},
   "outputs": [],
   "source": [
    "from selenium import webdriver\n",
    "from selenium.webdriver.chrome.service import Service\n",
    "from webdriver_manager.chrome import ChromeDriverManager\n",
    "from selenium.webdriver.common.keys import Keys\n",
    "import pyperclip\n",
    "import time\n",
    "from selenium.webdriver.common.action_chains import ActionChains"
   ]
  },
  {
   "cell_type": "code",
   "execution_count": null,
   "metadata": {},
   "outputs": [],
   "source": [
    "#Abre o Whatsapp\n",
    "service = Service(ChromeDriverManager().install())\n",
    "nav = webdriver.Chrome(service=service)\n",
    "nav.get('https://web.whatsapp.com/')"
   ]
  },
  {
   "cell_type": "code",
   "execution_count": null,
   "metadata": {},
   "outputs": [],
   "source": [
    "#Define a mensagem e a lista de contatos\n",
    "message = \"Olá,tudo bem com você? Espero que sim! Agora me diga aí se você pudesse automatizar tarefas digitais o que você gostaria de automatizar? Manda aqui pra mim\"\n",
    "list_of_contacts = [\"Mariana\",\"Marcos\",\"Lê\",\"Maria Laura\",\"Familia da Elaine\",\"Michele Souza WhatsApp\",\"Cristiane Cesário\",\"Eliana DMC\", \"Nicole\"]"
   ]
  },
  {
   "cell_type": "code",
   "execution_count": null,
   "metadata": {},
   "outputs": [],
   "source": [
    "#Encontra o meu próprio contato\n",
    "nav.find_element('xpath','//*[@id=\"side\"]/div[1]/div/div[2]/button').click()\n",
    "nav.find_element('xpath','//*[@id=\"side\"]/div[1]/div/div[2]/div[2]/div/div[1]/p').send_keys(\"Elaine Eu\")\n",
    "nav.find_element('xpath','//*[@id=\"side\"]/div[1]/div/div[2]/div[2]/div/div[1]/p').send_keys(Keys.ENTER)\n",
    "time.sleep(1)"
   ]
  },
  {
   "cell_type": "code",
   "execution_count": null,
   "metadata": {},
   "outputs": [],
   "source": [
    "#para textos que contém emoji , mas não deu certo aqui preciso pesquisar mais pra implementar\n",
    "#pyperclip.copy(messagem) # o erro acontece nesta linha \n",
    "#nav.find_element('xpath','//*[@id=\"main\"]/footer/div[1]/div/span[2]/div/div[2]/div[1]/div/div[1]/p').send_keys(Keys.CONTROL + \"v\")\n",
    "#nav.find_element('xpath','//*[@id=\"main\"]/footer/div[1]/div/span[2]/div/div[2]/div[1]/div/div[1]/p').send_keys(Keys.ENTER)"
   ]
  },
  {
   "cell_type": "code",
   "execution_count": null,
   "metadata": {},
   "outputs": [],
   "source": [
    "#Prepara a mensagem enviando para o meu próprio contato\n",
    "nav.find_element('xpath','//*[@id=\"main\"]/footer/div[1]/div/span[2]/div/div[2]/div[1]/div/div[1]/p').send_keys(message)\n",
    "nav.find_element('xpath','//*[@id=\"main\"]/footer/div[1]/div/span[2]/div/div[2]/div[1]/div/div[1]/p').send_keys(Keys.ENTER)"
   ]
  },
  {
   "cell_type": "code",
   "execution_count": null,
   "metadata": {},
   "outputs": [],
   "source": [
    "#Procura a mensagem definida no chat do meu contato\n",
    "list_of_elements = nav.find_elements('class name', '_1uv-a')\n",
    "for item in list_of_elements:\n",
    "    texto_aux = item.text.split('\\n')\n",
    "    texto = texto_aux[0]\n",
    "\n",
    "    if message in texto:\n",
    "        elemento = item\n",
    "        print('Elemento encontrado:', elemento)\n",
    "        break"
   ]
  },
  {
   "cell_type": "code",
   "execution_count": null,
   "metadata": {},
   "outputs": [],
   "source": [
    "#definir a quantidade de blocos com 5 contatos\n",
    "qtde_contacts = len(list_of_contacts)\n",
    "if qtde_contacts % 5 == 0:\n",
    "    qtde_blocos = qtde_contacts / 5 \n",
    "else:\n",
    "    qtde_blocos = int(qtde_contacts / 5) + 1\n",
    "print(qtde_blocos)"
   ]
  },
  {
   "cell_type": "code",
   "execution_count": null,
   "metadata": {},
   "outputs": [],
   "source": [
    "#definir uma lista de enviar de cinco em cinco contatos\n",
    "for i in range(qtde_blocos):\n",
    "    index_init = i*5\n",
    "    index_final = (i+1)*5\n",
    "    send_list = list_of_contacts[index_init:index_final] #lista de enviar definida iterativamente\n",
    "    print(send_list)\n",
    "    time.sleep(2)\n",
    "    #Prepara o compartilhamento\n",
    "    ActionChains(nav).move_to_element(elemento).perform()\n",
    "    time.sleep(2)\n",
    "    elemento.find_element('class name','vBu41').click()\n",
    "    nav.find_element('xpath','//*[@id=\"app\"]/div/span[5]/div/ul/div/li[4]').click()\n",
    "    time.sleep(0.5)\n",
    "    nav.find_element('xpath','//*[@id=\"main\"]/span[2]/div/button[4]').click()\n",
    "    \n",
    "    # escrever o nome dos cinco contatos da send_list\n",
    "    for name in send_list:\n",
    "        #escrever o nome do contato\n",
    "        nav.find_element('xpath','//*[@id=\"app\"]/div/span[2]/div/div/div/div/div/div/div/div[1]/div/div[2]/div[2]/div/div[1]/p').send_keys(name)\n",
    "        time.sleep(2)\n",
    "        #dar enter\n",
    "        nav.find_element('xpath','//*[@id=\"app\"]/div/span[2]/div/div/div/div/div/div/div/div[1]/div/div[2]/div[2]/div/div[1]/p').send_keys(Keys.ENTER)\n",
    "        time.sleep(3)\n",
    "        #apagar o nome do contato\n",
    "        nav.find_element('xpath','//*[@id=\"app\"]/div/span[2]/div/div/div/div/div/div/div/div[1]/div/div[2]/div[2]/div/div[1]/p').send_keys(Keys.BACKSPACE)\n",
    "    #clicar no avião enviar\n",
    "    nav.find_element('xpath','//*[@id=\"app\"]/div/span[2]/div/div/div/div/div/div/div/span/div/div/div/span').click()\n",
    "    time.sleep(1)\n",
    "    "
   ]
  }
 ],
 "metadata": {
  "kernelspec": {
   "display_name": "Python 3",
   "language": "python",
   "name": "python3"
  },
  "language_info": {
   "codemirror_mode": {
    "name": "ipython",
    "version": 3
   },
   "file_extension": ".py",
   "mimetype": "text/x-python",
   "name": "python",
   "nbconvert_exporter": "python",
   "pygments_lexer": "ipython3",
   "version": "3.8.10"
  }
 },
 "nbformat": 4,
 "nbformat_minor": 2
}
